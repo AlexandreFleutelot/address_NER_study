{
 "cells": [
  {
   "cell_type": "markdown",
   "id": "f8cd815b",
   "metadata": {},
   "source": [
    "# Random Forest NER"
   ]
  },
  {
   "cell_type": "code",
   "execution_count": 43,
   "id": "8435509e",
   "metadata": {},
   "outputs": [],
   "source": [
    "import random\n",
    "from faker import Faker\n",
    "\n",
    "import pandas as pd\n",
    "import numpy as np\n",
    "\n",
    "from sklearn.model_selection import train_test_split, cross_val_score\n",
    "from sklearn.ensemble import RandomForestClassifier"
   ]
  },
  {
   "cell_type": "markdown",
   "id": "816c0f79",
   "metadata": {},
   "source": [
    "## Generate data"
   ]
  },
  {
   "cell_type": "code",
   "execution_count": 8,
   "id": "74d82c12",
   "metadata": {},
   "outputs": [],
   "source": [
    "LOCS = ['fr_FR', 'fr_FR', 'fr_FR', 'en_US', 'en_GB', 'de_DE', 'fr_CH', 'nl_BE', 'it_IT', 'es_ES']\n",
    "fake = {loc:Faker(loc) for loc in LOCS}\n",
    "Faker.seed(411)\n",
    "\n",
    "DATASET_SIZE = 10000"
   ]
  },
  {
   "cell_type": "code",
   "execution_count": 9,
   "id": "eb25f3b0",
   "metadata": {},
   "outputs": [],
   "source": [
    "adrs = []\n",
    "\n",
    "for i in range(DATASET_SIZE):\n",
    "    words, tags = [],[]\n",
    "    loc = random.sample(LOCS,1)[0]\n",
    "    \n",
    "    for f in fake[loc].iban().split():\n",
    "        if random.random()>0.2:\n",
    "            words.append(f)\n",
    "            tags.append('IBAN')\n",
    "        \n",
    "    if random.random() > 0.5:\n",
    "        for f in fake[loc].name().split():\n",
    "            words.append(f)\n",
    "            tags.append('NAME')\n",
    "    else:\n",
    "        for f in fake[loc].company().split():\n",
    "            words.append(f)\n",
    "            tags.append('ORG')\n",
    "        \n",
    "    for f in fake[loc].address().split():\n",
    "        if random.random()>0.1:\n",
    "            words.append(f)\n",
    "            tags.append('ADDRESS')\n",
    "    \n",
    "    if random.random()>0.1:\n",
    "        words.append(loc[-2:])\n",
    "        tags.append('COUNTRY')\n",
    "        \n",
    "    adrs.append((words,tags))"
   ]
  },
  {
   "cell_type": "markdown",
   "id": "da4ac9ba",
   "metadata": {},
   "source": [
    "## Building features"
   ]
  },
  {
   "cell_type": "code",
   "execution_count": 24,
   "id": "416ba295",
   "metadata": {},
   "outputs": [],
   "source": [
    "def has_numbers(inputString):\n",
    "    return any(char.isdigit() for char in inputString)"
   ]
  },
  {
   "cell_type": "code",
   "execution_count": 29,
   "id": "ae6a97f4",
   "metadata": {},
   "outputs": [
    {
     "data": {
      "text/html": [
       "<div>\n",
       "<style scoped>\n",
       "    .dataframe tbody tr th:only-of-type {\n",
       "        vertical-align: middle;\n",
       "    }\n",
       "\n",
       "    .dataframe tbody tr th {\n",
       "        vertical-align: top;\n",
       "    }\n",
       "\n",
       "    .dataframe thead th {\n",
       "        text-align: right;\n",
       "    }\n",
       "</style>\n",
       "<table border=\"1\" class=\"dataframe\">\n",
       "  <thead>\n",
       "    <tr style=\"text-align: right;\">\n",
       "      <th></th>\n",
       "      <th>adr_idx</th>\n",
       "      <th>tag</th>\n",
       "      <th>text</th>\n",
       "      <th>text_pos</th>\n",
       "      <th>adr_len</th>\n",
       "      <th>pos_percent</th>\n",
       "      <th>islower</th>\n",
       "      <th>isupper</th>\n",
       "      <th>istitle</th>\n",
       "      <th>isdigit</th>\n",
       "      <th>hasDigit</th>\n",
       "      <th>len</th>\n",
       "    </tr>\n",
       "  </thead>\n",
       "  <tbody>\n",
       "    <tr>\n",
       "      <th>0</th>\n",
       "      <td>0</td>\n",
       "      <td>IBAN</td>\n",
       "      <td>FR6930539337630881315984590</td>\n",
       "      <td>0</td>\n",
       "      <td>8</td>\n",
       "      <td>0.000</td>\n",
       "      <td>False</td>\n",
       "      <td>True</td>\n",
       "      <td>False</td>\n",
       "      <td>False</td>\n",
       "      <td>True</td>\n",
       "      <td>27</td>\n",
       "    </tr>\n",
       "    <tr>\n",
       "      <th>1</th>\n",
       "      <td>0</td>\n",
       "      <td>ORG</td>\n",
       "      <td>Hoarau</td>\n",
       "      <td>1</td>\n",
       "      <td>8</td>\n",
       "      <td>0.125</td>\n",
       "      <td>False</td>\n",
       "      <td>False</td>\n",
       "      <td>True</td>\n",
       "      <td>False</td>\n",
       "      <td>False</td>\n",
       "      <td>6</td>\n",
       "    </tr>\n",
       "    <tr>\n",
       "      <th>2</th>\n",
       "      <td>0</td>\n",
       "      <td>ORG</td>\n",
       "      <td>S.A.S.</td>\n",
       "      <td>2</td>\n",
       "      <td>8</td>\n",
       "      <td>0.250</td>\n",
       "      <td>False</td>\n",
       "      <td>True</td>\n",
       "      <td>True</td>\n",
       "      <td>False</td>\n",
       "      <td>False</td>\n",
       "      <td>6</td>\n",
       "    </tr>\n",
       "    <tr>\n",
       "      <th>3</th>\n",
       "      <td>0</td>\n",
       "      <td>ADDRESS</td>\n",
       "      <td>rue</td>\n",
       "      <td>3</td>\n",
       "      <td>8</td>\n",
       "      <td>0.375</td>\n",
       "      <td>True</td>\n",
       "      <td>False</td>\n",
       "      <td>False</td>\n",
       "      <td>False</td>\n",
       "      <td>False</td>\n",
       "      <td>3</td>\n",
       "    </tr>\n",
       "    <tr>\n",
       "      <th>4</th>\n",
       "      <td>0</td>\n",
       "      <td>ADDRESS</td>\n",
       "      <td>Roussel</td>\n",
       "      <td>4</td>\n",
       "      <td>8</td>\n",
       "      <td>0.500</td>\n",
       "      <td>False</td>\n",
       "      <td>False</td>\n",
       "      <td>True</td>\n",
       "      <td>False</td>\n",
       "      <td>False</td>\n",
       "      <td>7</td>\n",
       "    </tr>\n",
       "    <tr>\n",
       "      <th>...</th>\n",
       "      <td>...</td>\n",
       "      <td>...</td>\n",
       "      <td>...</td>\n",
       "      <td>...</td>\n",
       "      <td>...</td>\n",
       "      <td>...</td>\n",
       "      <td>...</td>\n",
       "      <td>...</td>\n",
       "      <td>...</td>\n",
       "      <td>...</td>\n",
       "      <td>...</td>\n",
       "      <td>...</td>\n",
       "    </tr>\n",
       "    <tr>\n",
       "      <th>95290</th>\n",
       "      <td>9999</td>\n",
       "      <td>ADDRESS</td>\n",
       "      <td>Scheibestr.</td>\n",
       "      <td>3</td>\n",
       "      <td>8</td>\n",
       "      <td>0.375</td>\n",
       "      <td>False</td>\n",
       "      <td>False</td>\n",
       "      <td>True</td>\n",
       "      <td>False</td>\n",
       "      <td>False</td>\n",
       "      <td>11</td>\n",
       "    </tr>\n",
       "    <tr>\n",
       "      <th>95291</th>\n",
       "      <td>9999</td>\n",
       "      <td>ADDRESS</td>\n",
       "      <td>5/2</td>\n",
       "      <td>4</td>\n",
       "      <td>8</td>\n",
       "      <td>0.500</td>\n",
       "      <td>False</td>\n",
       "      <td>False</td>\n",
       "      <td>False</td>\n",
       "      <td>False</td>\n",
       "      <td>True</td>\n",
       "      <td>3</td>\n",
       "    </tr>\n",
       "    <tr>\n",
       "      <th>95292</th>\n",
       "      <td>9999</td>\n",
       "      <td>ADDRESS</td>\n",
       "      <td>86834</td>\n",
       "      <td>5</td>\n",
       "      <td>8</td>\n",
       "      <td>0.625</td>\n",
       "      <td>False</td>\n",
       "      <td>False</td>\n",
       "      <td>False</td>\n",
       "      <td>True</td>\n",
       "      <td>True</td>\n",
       "      <td>5</td>\n",
       "    </tr>\n",
       "    <tr>\n",
       "      <th>95293</th>\n",
       "      <td>9999</td>\n",
       "      <td>ADDRESS</td>\n",
       "      <td>Bischofswerda</td>\n",
       "      <td>6</td>\n",
       "      <td>8</td>\n",
       "      <td>0.750</td>\n",
       "      <td>False</td>\n",
       "      <td>False</td>\n",
       "      <td>True</td>\n",
       "      <td>False</td>\n",
       "      <td>False</td>\n",
       "      <td>13</td>\n",
       "    </tr>\n",
       "    <tr>\n",
       "      <th>95294</th>\n",
       "      <td>9999</td>\n",
       "      <td>COUNTRY</td>\n",
       "      <td>DE</td>\n",
       "      <td>7</td>\n",
       "      <td>8</td>\n",
       "      <td>0.875</td>\n",
       "      <td>False</td>\n",
       "      <td>True</td>\n",
       "      <td>False</td>\n",
       "      <td>False</td>\n",
       "      <td>False</td>\n",
       "      <td>2</td>\n",
       "    </tr>\n",
       "  </tbody>\n",
       "</table>\n",
       "<p>95295 rows × 12 columns</p>\n",
       "</div>"
      ],
      "text/plain": [
       "       adr_idx      tag                         text  text_pos  adr_len  \\\n",
       "0            0     IBAN  FR6930539337630881315984590         0        8   \n",
       "1            0      ORG                       Hoarau         1        8   \n",
       "2            0      ORG                       S.A.S.         2        8   \n",
       "3            0  ADDRESS                          rue         3        8   \n",
       "4            0  ADDRESS                      Roussel         4        8   \n",
       "...        ...      ...                          ...       ...      ...   \n",
       "95290     9999  ADDRESS                  Scheibestr.         3        8   \n",
       "95291     9999  ADDRESS                          5/2         4        8   \n",
       "95292     9999  ADDRESS                        86834         5        8   \n",
       "95293     9999  ADDRESS                Bischofswerda         6        8   \n",
       "95294     9999  COUNTRY                           DE         7        8   \n",
       "\n",
       "       pos_percent  islower  isupper  istitle  isdigit  hasDigit  len  \n",
       "0            0.000    False     True    False    False      True   27  \n",
       "1            0.125    False    False     True    False     False    6  \n",
       "2            0.250    False     True     True    False     False    6  \n",
       "3            0.375     True    False    False    False     False    3  \n",
       "4            0.500    False    False     True    False     False    7  \n",
       "...            ...      ...      ...      ...      ...       ...  ...  \n",
       "95290        0.375    False    False     True    False     False   11  \n",
       "95291        0.500    False    False    False    False      True    3  \n",
       "95292        0.625    False    False    False     True      True    5  \n",
       "95293        0.750    False    False     True    False     False   13  \n",
       "95294        0.875    False     True    False    False     False    2  \n",
       "\n",
       "[95295 rows x 12 columns]"
      ]
     },
     "execution_count": 29,
     "metadata": {},
     "output_type": "execute_result"
    }
   ],
   "source": [
    "data = []\n",
    "for i,adr in enumerate(adrs):\n",
    "    for ii,(text,tag) in enumerate(zip(adr[0],adr[1])):\n",
    "        d = {\n",
    "            \"adr_idx\":i,\n",
    "            \"tag\":tag,\n",
    "            \"text\":text,  \n",
    "            \"text_pos\":ii,\n",
    "            \"adr_len\": len(adr[0]),\n",
    "            \"pos_percent\": ii/len(adr[0]),\n",
    "            \"islower\":text.islower(),\n",
    "            \"isupper\":text.isupper(),\n",
    "            \"istitle\":text.istitle(),\n",
    "            \"isdigit\":text.isdigit(),\n",
    "            \"hasDigit\":has_numbers(text),\n",
    "\n",
    "            \"len\":len(text)\n",
    "        }\n",
    "        data.append(d)\n",
    "df = pd.DataFrame(data)\n",
    "df"
   ]
  },
  {
   "cell_type": "markdown",
   "id": "b41a8d20",
   "metadata": {},
   "source": [
    "## Baseline "
   ]
  },
  {
   "cell_type": "code",
   "execution_count": 37,
   "id": "3cab400d",
   "metadata": {},
   "outputs": [],
   "source": [
    "X = df[['text_pos', 'adr_len', 'pos_percent',\n",
    "       'islower', 'isupper', 'istitle', 'isdigit', \n",
    "        'hasDigit', 'len']]\n",
    "y = df['tag']."
   ]
  },
  {
   "cell_type": "code",
   "execution_count": 61,
   "id": "f65f03ba",
   "metadata": {},
   "outputs": [],
   "source": [
    "X_train, X_test, y_train, y_test = train_test_split(X, y, test_size=0.2, shuffle=False, random_state=42)"
   ]
  },
  {
   "cell_type": "code",
   "execution_count": 99,
   "id": "59fe56d4",
   "metadata": {},
   "outputs": [
    {
     "name": "stdout",
     "output_type": "stream",
     "text": [
      "0.8932892596673486  +/-  0.0019878348929571613\n"
     ]
    }
   ],
   "source": [
    "clf = RandomForestClassifier(random_state=0)\n",
    "scores = cross_val_score(clf, X, y, cv=5, scoring=\"accuracy\")\n",
    "print(np.mean(scores), \" +/- \", np.std(scores))"
   ]
  },
  {
   "cell_type": "markdown",
   "id": "627d6797",
   "metadata": {},
   "source": [
    "## Improving the perfs\n",
    "\n",
    "The idea is to take in consideration previous and next tags to give some context by providing these info to a second random forest"
   ]
  },
  {
   "cell_type": "code",
   "execution_count": 100,
   "id": "7a3631a3",
   "metadata": {},
   "outputs": [
    {
     "data": {
      "text/plain": [
       "array(['IBAN', 'NAME', 'ORG', ..., 'ADDRESS', 'ADDRESS', 'COUNTRY'],\n",
       "      dtype=object)"
      ]
     },
     "execution_count": 100,
     "metadata": {},
     "output_type": "execute_result"
    }
   ],
   "source": [
    "clf.fit(X_train, y_train)\n",
    "train_preds = clf.predict(X_train)\n",
    "train_preds"
   ]
  },
  {
   "cell_type": "code",
   "execution_count": 101,
   "id": "cd9b77b5",
   "metadata": {},
   "outputs": [],
   "source": [
    "X2_train = X_train.copy()\n",
    "X2_train['pred_TAG'] = train_preds\n",
    "\n",
    "X2_train[\"prev_tag\"] = np.concatenate(([\"START\"], train_preds[:-1]))\n",
    "X2_train.loc[X2_train.text_pos==0,\"prev_tag\"] = \"START\"\n",
    "\n",
    "X2_train[\"next_tag\"] = np.concatenate((train_preds[1:], [\"END\"]))\n",
    "X2_train.loc[X2_train.text_pos==X2_train.adr_len,\"next_tag\"] = \"END\"\n",
    "\n",
    "X2_train = pd.concat((X2_train,pd.get_dummies(X2_train[[\"pred_TAG\",\"prev_tag\",\"next_tag\"]])), axis=1)\n",
    "X2_train = X2_train.drop(columns=[\"pred_TAG\",\"prev_tag\",\"next_tag\"])"
   ]
  },
  {
   "cell_type": "code",
   "execution_count": 102,
   "id": "0b6ee730",
   "metadata": {},
   "outputs": [
    {
     "name": "stdout",
     "output_type": "stream",
     "text": [
      "0.9347158534825388  +/-  0.001793628855485006\n"
     ]
    }
   ],
   "source": [
    "clf2 = RandomForestClassifier(random_state=0)\n",
    "scores = cross_val_score(clf, X2_train, y_train, cv=5, scoring=\"accuracy\")\n",
    "print(np.mean(scores), \" +/- \", np.std(scores))"
   ]
  },
  {
   "cell_type": "code",
   "execution_count": null,
   "id": "ce87bc41",
   "metadata": {},
   "outputs": [],
   "source": []
  }
 ],
 "metadata": {
  "kernelspec": {
   "display_name": "Python 3 (ipykernel)",
   "language": "python",
   "name": "python3"
  },
  "language_info": {
   "codemirror_mode": {
    "name": "ipython",
    "version": 3
   },
   "file_extension": ".py",
   "mimetype": "text/x-python",
   "name": "python",
   "nbconvert_exporter": "python",
   "pygments_lexer": "ipython3",
   "version": "3.11.0"
  }
 },
 "nbformat": 4,
 "nbformat_minor": 5
}
