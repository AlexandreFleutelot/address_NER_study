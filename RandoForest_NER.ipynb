{
 "cells": [
  {
   "cell_type": "markdown",
   "id": "f8cd815b",
   "metadata": {},
   "source": [
    "# Random Forest NER"
   ]
  },
  {
   "cell_type": "code",
   "execution_count": 32,
   "id": "8435509e",
   "metadata": {},
   "outputs": [],
   "source": [
    "import random\n",
    "from faker import Faker\n",
    "\n",
    "import pandas as pd\n",
    "import numpy as np\n",
    "\n",
    "from sklearn.model_selection import train_test_split, cross_val_score\n",
    "from sklearn.ensemble import RandomForestClassifier\n",
    "from sklearn import linear_model\n",
    "from sklearn.preprocessing import LabelBinarizer\n",
    "from sklearn.multioutput import MultiOutputClassifier\n",
    "from sklearn.metrics import accuracy_score"
   ]
  },
  {
   "cell_type": "markdown",
   "id": "816c0f79",
   "metadata": {},
   "source": [
    "## Generate data"
   ]
  },
  {
   "cell_type": "code",
   "execution_count": 2,
   "id": "74d82c12",
   "metadata": {},
   "outputs": [],
   "source": [
    "LOCS = ['fr_FR', 'fr_FR', 'fr_FR', 'en_US', 'en_GB', 'de_DE', 'fr_CH', 'nl_BE', 'it_IT', 'es_ES']\n",
    "fake = {loc:Faker(loc) for loc in LOCS}\n",
    "Faker.seed(1909)\n",
    "\n",
    "DATASET_SIZE = 10000"
   ]
  },
  {
   "cell_type": "code",
   "execution_count": 3,
   "id": "eb25f3b0",
   "metadata": {},
   "outputs": [],
   "source": [
    "adrs = []\n",
    "\n",
    "for i in range(DATASET_SIZE):\n",
    "    words, tags = [],[]\n",
    "    loc = random.sample(LOCS,1)[0]\n",
    "    \n",
    "    for f in fake[loc].iban().split():\n",
    "        if random.random()>0.2:\n",
    "            words.append(f)\n",
    "            tags.append('IBAN')\n",
    "        \n",
    "    if random.random() > 0.5:\n",
    "        for f in fake[loc].name().split():\n",
    "            words.append(f)\n",
    "            tags.append('NAME')\n",
    "    else:\n",
    "        for f in fake[loc].company().split():\n",
    "            words.append(f)\n",
    "            tags.append('ORG')\n",
    "        \n",
    "    for f in fake[loc].address().split():\n",
    "        if random.random()>0.1:\n",
    "            words.append(f)\n",
    "            tags.append('ADDRESS')\n",
    "    \n",
    "    if random.random()>0.1:\n",
    "        words.append(loc[-2:])\n",
    "        tags.append('COUNTRY')\n",
    "        \n",
    "    adrs.append((words,tags))"
   ]
  },
  {
   "cell_type": "markdown",
   "id": "c90e98cd",
   "metadata": {},
   "source": [
    "## Building features"
   ]
  },
  {
   "cell_type": "code",
   "execution_count": 4,
   "id": "5c4bd124",
   "metadata": {},
   "outputs": [],
   "source": [
    "def has_numbers(inputString):\n",
    "    return any(char.isdigit() for char in inputString)"
   ]
  },
  {
   "cell_type": "code",
   "execution_count": 5,
   "id": "ae6a97f4",
   "metadata": {},
   "outputs": [
    {
     "data": {
      "text/html": [
       "<div>\n",
       "<style scoped>\n",
       "    .dataframe tbody tr th:only-of-type {\n",
       "        vertical-align: middle;\n",
       "    }\n",
       "\n",
       "    .dataframe tbody tr th {\n",
       "        vertical-align: top;\n",
       "    }\n",
       "\n",
       "    .dataframe thead th {\n",
       "        text-align: right;\n",
       "    }\n",
       "</style>\n",
       "<table border=\"1\" class=\"dataframe\">\n",
       "  <thead>\n",
       "    <tr style=\"text-align: right;\">\n",
       "      <th></th>\n",
       "      <th>adr_idx</th>\n",
       "      <th>tag</th>\n",
       "      <th>text</th>\n",
       "      <th>text_pos</th>\n",
       "      <th>adr_len</th>\n",
       "      <th>pos_percent</th>\n",
       "      <th>islower</th>\n",
       "      <th>isupper</th>\n",
       "      <th>istitle</th>\n",
       "      <th>isdigit</th>\n",
       "      <th>hasDigit</th>\n",
       "      <th>len</th>\n",
       "    </tr>\n",
       "  </thead>\n",
       "  <tbody>\n",
       "    <tr>\n",
       "      <th>0</th>\n",
       "      <td>0</td>\n",
       "      <td>IBAN</td>\n",
       "      <td>FR3242328429469013406958049</td>\n",
       "      <td>0</td>\n",
       "      <td>9</td>\n",
       "      <td>0.000000</td>\n",
       "      <td>False</td>\n",
       "      <td>True</td>\n",
       "      <td>False</td>\n",
       "      <td>False</td>\n",
       "      <td>True</td>\n",
       "      <td>27</td>\n",
       "    </tr>\n",
       "    <tr>\n",
       "      <th>1</th>\n",
       "      <td>0</td>\n",
       "      <td>NAME</td>\n",
       "      <td>Valérie-Nathalie</td>\n",
       "      <td>1</td>\n",
       "      <td>9</td>\n",
       "      <td>0.111111</td>\n",
       "      <td>False</td>\n",
       "      <td>False</td>\n",
       "      <td>True</td>\n",
       "      <td>False</td>\n",
       "      <td>False</td>\n",
       "      <td>16</td>\n",
       "    </tr>\n",
       "    <tr>\n",
       "      <th>2</th>\n",
       "      <td>0</td>\n",
       "      <td>NAME</td>\n",
       "      <td>Potier</td>\n",
       "      <td>2</td>\n",
       "      <td>9</td>\n",
       "      <td>0.222222</td>\n",
       "      <td>False</td>\n",
       "      <td>False</td>\n",
       "      <td>True</td>\n",
       "      <td>False</td>\n",
       "      <td>False</td>\n",
       "      <td>6</td>\n",
       "    </tr>\n",
       "    <tr>\n",
       "      <th>3</th>\n",
       "      <td>0</td>\n",
       "      <td>ADDRESS</td>\n",
       "      <td>37,</td>\n",
       "      <td>3</td>\n",
       "      <td>9</td>\n",
       "      <td>0.333333</td>\n",
       "      <td>False</td>\n",
       "      <td>False</td>\n",
       "      <td>False</td>\n",
       "      <td>False</td>\n",
       "      <td>True</td>\n",
       "      <td>3</td>\n",
       "    </tr>\n",
       "    <tr>\n",
       "      <th>4</th>\n",
       "      <td>0</td>\n",
       "      <td>ADDRESS</td>\n",
       "      <td>avenue</td>\n",
       "      <td>4</td>\n",
       "      <td>9</td>\n",
       "      <td>0.444444</td>\n",
       "      <td>True</td>\n",
       "      <td>False</td>\n",
       "      <td>False</td>\n",
       "      <td>False</td>\n",
       "      <td>False</td>\n",
       "      <td>6</td>\n",
       "    </tr>\n",
       "    <tr>\n",
       "      <th>...</th>\n",
       "      <td>...</td>\n",
       "      <td>...</td>\n",
       "      <td>...</td>\n",
       "      <td>...</td>\n",
       "      <td>...</td>\n",
       "      <td>...</td>\n",
       "      <td>...</td>\n",
       "      <td>...</td>\n",
       "      <td>...</td>\n",
       "      <td>...</td>\n",
       "      <td>...</td>\n",
       "      <td>...</td>\n",
       "    </tr>\n",
       "    <tr>\n",
       "      <th>95175</th>\n",
       "      <td>9999</td>\n",
       "      <td>ADDRESS</td>\n",
       "      <td>rue</td>\n",
       "      <td>3</td>\n",
       "      <td>8</td>\n",
       "      <td>0.375000</td>\n",
       "      <td>True</td>\n",
       "      <td>False</td>\n",
       "      <td>False</td>\n",
       "      <td>False</td>\n",
       "      <td>False</td>\n",
       "      <td>3</td>\n",
       "    </tr>\n",
       "    <tr>\n",
       "      <th>95176</th>\n",
       "      <td>9999</td>\n",
       "      <td>ADDRESS</td>\n",
       "      <td>Lebrun</td>\n",
       "      <td>4</td>\n",
       "      <td>8</td>\n",
       "      <td>0.500000</td>\n",
       "      <td>False</td>\n",
       "      <td>False</td>\n",
       "      <td>True</td>\n",
       "      <td>False</td>\n",
       "      <td>False</td>\n",
       "      <td>6</td>\n",
       "    </tr>\n",
       "    <tr>\n",
       "      <th>95177</th>\n",
       "      <td>9999</td>\n",
       "      <td>ADDRESS</td>\n",
       "      <td>08318</td>\n",
       "      <td>5</td>\n",
       "      <td>8</td>\n",
       "      <td>0.625000</td>\n",
       "      <td>False</td>\n",
       "      <td>False</td>\n",
       "      <td>False</td>\n",
       "      <td>True</td>\n",
       "      <td>True</td>\n",
       "      <td>5</td>\n",
       "    </tr>\n",
       "    <tr>\n",
       "      <th>95178</th>\n",
       "      <td>9999</td>\n",
       "      <td>ADDRESS</td>\n",
       "      <td>Pottier</td>\n",
       "      <td>6</td>\n",
       "      <td>8</td>\n",
       "      <td>0.750000</td>\n",
       "      <td>False</td>\n",
       "      <td>False</td>\n",
       "      <td>True</td>\n",
       "      <td>False</td>\n",
       "      <td>False</td>\n",
       "      <td>7</td>\n",
       "    </tr>\n",
       "    <tr>\n",
       "      <th>95179</th>\n",
       "      <td>9999</td>\n",
       "      <td>COUNTRY</td>\n",
       "      <td>FR</td>\n",
       "      <td>7</td>\n",
       "      <td>8</td>\n",
       "      <td>0.875000</td>\n",
       "      <td>False</td>\n",
       "      <td>True</td>\n",
       "      <td>False</td>\n",
       "      <td>False</td>\n",
       "      <td>False</td>\n",
       "      <td>2</td>\n",
       "    </tr>\n",
       "  </tbody>\n",
       "</table>\n",
       "<p>95180 rows × 12 columns</p>\n",
       "</div>"
      ],
      "text/plain": [
       "       adr_idx      tag                         text  text_pos  adr_len  \\\n",
       "0            0     IBAN  FR3242328429469013406958049         0        9   \n",
       "1            0     NAME             Valérie-Nathalie         1        9   \n",
       "2            0     NAME                       Potier         2        9   \n",
       "3            0  ADDRESS                          37,         3        9   \n",
       "4            0  ADDRESS                       avenue         4        9   \n",
       "...        ...      ...                          ...       ...      ...   \n",
       "95175     9999  ADDRESS                          rue         3        8   \n",
       "95176     9999  ADDRESS                       Lebrun         4        8   \n",
       "95177     9999  ADDRESS                        08318         5        8   \n",
       "95178     9999  ADDRESS                      Pottier         6        8   \n",
       "95179     9999  COUNTRY                           FR         7        8   \n",
       "\n",
       "       pos_percent  islower  isupper  istitle  isdigit  hasDigit  len  \n",
       "0         0.000000    False     True    False    False      True   27  \n",
       "1         0.111111    False    False     True    False     False   16  \n",
       "2         0.222222    False    False     True    False     False    6  \n",
       "3         0.333333    False    False    False    False      True    3  \n",
       "4         0.444444     True    False    False    False     False    6  \n",
       "...            ...      ...      ...      ...      ...       ...  ...  \n",
       "95175     0.375000     True    False    False    False     False    3  \n",
       "95176     0.500000    False    False     True    False     False    6  \n",
       "95177     0.625000    False    False    False     True      True    5  \n",
       "95178     0.750000    False    False     True    False     False    7  \n",
       "95179     0.875000    False     True    False    False     False    2  \n",
       "\n",
       "[95180 rows x 12 columns]"
      ]
     },
     "execution_count": 5,
     "metadata": {},
     "output_type": "execute_result"
    }
   ],
   "source": [
    "data = []\n",
    "for i,adr in enumerate(adrs):\n",
    "    for ii,(text,tag) in enumerate(zip(adr[0],adr[1])):\n",
    "        d = {\n",
    "            \"adr_idx\":i,\n",
    "            \"tag\":tag,\n",
    "            \"text\":text,  \n",
    "            \"text_pos\":ii,\n",
    "            \"adr_len\": len(adr[0]),\n",
    "            \"pos_percent\": ii/len(adr[0]),\n",
    "            \"islower\":text.islower(),\n",
    "            \"isupper\":text.isupper(),\n",
    "            \"istitle\":text.istitle(),\n",
    "            \"isdigit\":text.isdigit(),\n",
    "            \"hasDigit\":has_numbers(text),\n",
    "\n",
    "            \"len\":len(text)\n",
    "        }\n",
    "        data.append(d)\n",
    "df = pd.DataFrame(data)\n",
    "df"
   ]
  },
  {
   "cell_type": "markdown",
   "id": "c50a5613",
   "metadata": {},
   "source": [
    "## Baseline "
   ]
  },
  {
   "cell_type": "code",
   "execution_count": 7,
   "id": "1be54a19",
   "metadata": {},
   "outputs": [],
   "source": [
    "X = df[['text_pos', 'adr_len', 'pos_percent',\n",
    "       'islower', 'isupper', 'istitle', 'isdigit', \n",
    "        'hasDigit', 'len']]\n",
    "y = df['tag']"
   ]
  },
  {
   "cell_type": "code",
   "execution_count": 8,
   "id": "75ff0cf1",
   "metadata": {},
   "outputs": [],
   "source": [
    "X_train, X_test, y_train, y_test = train_test_split(X, y, test_size=0.2, shuffle=False, random_state=42)"
   ]
  },
  {
   "cell_type": "code",
   "execution_count": 37,
   "id": "536fa755",
   "metadata": {},
   "outputs": [
    {
     "name": "stdout",
     "output_type": "stream",
     "text": [
      "0.7637423828535407  +/-  0.0015493302179437984\n"
     ]
    }
   ],
   "source": [
    "lb = LabelBinarizer()\n",
    "y_lb = lb.fit_transform(y)\n",
    "\n",
    "clf = MultiOutputClassifier(linear_model.LogisticRegression(max_iter=3000))\n",
    "scores = cross_val_score(clf, X, y_lb, cv=5, scoring=\"accuracy\")\n",
    "print(np.mean(scores), \" +/- \", np.std(scores))"
   ]
  },
  {
   "cell_type": "code",
   "execution_count": 9,
   "id": "7c1c89cd",
   "metadata": {},
   "outputs": [
    {
     "name": "stdout",
     "output_type": "stream",
     "text": [
      "0.8942004622819921  +/-  0.002441694855542609\n"
     ]
    }
   ],
   "source": [
    "clf = RandomForestClassifier(random_state=0)\n",
    "scores = cross_val_score(clf, X, y, cv=5, scoring=\"accuracy\")\n",
    "print(np.mean(scores), \" +/- \", np.std(scores))"
   ]
  },
  {
   "cell_type": "code",
   "execution_count": 22,
   "id": "8ef873a0",
   "metadata": {},
   "outputs": [],
   "source": [
    "clf.fit(X_train, y_train)\n",
    "test_preds = clf.predict(X_test)"
   ]
  },
  {
   "cell_type": "code",
   "execution_count": 23,
   "id": "1668206d",
   "metadata": {},
   "outputs": [
    {
     "name": "stderr",
     "output_type": "stream",
     "text": [
      "C:\\Users\\Shadow\\AppData\\Local\\Temp\\ipykernel_14468\\39364010.py:3: FutureWarning: The default value of numeric_only in DataFrameGroupBy.mean is deprecated. In a future version, numeric_only will default to False. Either specify numeric_only or select only columns which should be valid for the function.\n",
      "  df_stats.groupby('preds').mean()\n"
     ]
    },
    {
     "data": {
      "text/html": [
       "<div>\n",
       "<style scoped>\n",
       "    .dataframe tbody tr th:only-of-type {\n",
       "        vertical-align: middle;\n",
       "    }\n",
       "\n",
       "    .dataframe tbody tr th {\n",
       "        vertical-align: top;\n",
       "    }\n",
       "\n",
       "    .dataframe thead th {\n",
       "        text-align: right;\n",
       "    }\n",
       "</style>\n",
       "<table border=\"1\" class=\"dataframe\">\n",
       "  <thead>\n",
       "    <tr style=\"text-align: right;\">\n",
       "      <th></th>\n",
       "      <th>success</th>\n",
       "    </tr>\n",
       "    <tr>\n",
       "      <th>preds</th>\n",
       "      <th></th>\n",
       "    </tr>\n",
       "  </thead>\n",
       "  <tbody>\n",
       "    <tr>\n",
       "      <th>ADDRESS</th>\n",
       "      <td>0.960694</td>\n",
       "    </tr>\n",
       "    <tr>\n",
       "      <th>COUNTRY</th>\n",
       "      <td>1.000000</td>\n",
       "    </tr>\n",
       "    <tr>\n",
       "      <th>IBAN</th>\n",
       "      <td>1.000000</td>\n",
       "    </tr>\n",
       "    <tr>\n",
       "      <th>NAME</th>\n",
       "      <td>0.602528</td>\n",
       "    </tr>\n",
       "    <tr>\n",
       "      <th>ORG</th>\n",
       "      <td>0.749424</td>\n",
       "    </tr>\n",
       "  </tbody>\n",
       "</table>\n",
       "</div>"
      ],
      "text/plain": [
       "          success\n",
       "preds            \n",
       "ADDRESS  0.960694\n",
       "COUNTRY  1.000000\n",
       "IBAN     1.000000\n",
       "NAME     0.602528\n",
       "ORG      0.749424"
      ]
     },
     "execution_count": 23,
     "metadata": {},
     "output_type": "execute_result"
    }
   ],
   "source": [
    "df_stats = pd.DataFrame({'preds':test_preds, 'targets':y_test})\n",
    "df_stats[\"success\"] = pd.to_numeric(df_stats.preds == df_stats.targets)\n",
    "df_stats.groupby('preds').mean()"
   ]
  },
  {
   "cell_type": "markdown",
   "id": "381cecb1",
   "metadata": {},
   "source": [
    "## Improving the perfs\n",
    "\n",
    "The idea is to take in consideration previous and next tags to give some context by providing these info to a second random forest"
   ]
  },
  {
   "cell_type": "code",
   "execution_count": 10,
   "id": "11b65293",
   "metadata": {},
   "outputs": [
    {
     "data": {
      "text/plain": [
       "array(['IBAN', 'NAME', 'NAME', ..., 'IBAN', 'NAME', 'ORG'], dtype=object)"
      ]
     },
     "execution_count": 10,
     "metadata": {},
     "output_type": "execute_result"
    }
   ],
   "source": [
    "train_preds = clf.predict(X_train)\n",
    "train_preds"
   ]
  },
  {
   "cell_type": "code",
   "execution_count": 11,
   "id": "820a3746",
   "metadata": {},
   "outputs": [],
   "source": [
    "X2_train = X_train.copy()\n",
    "X2_train['pred_TAG'] = train_preds\n",
    "\n",
    "X2_train[\"prev_tag\"] = np.concatenate(([\"START\"], train_preds[:-1]))\n",
    "X2_train.loc[X2_train.text_pos==0,\"prev_tag\"] = \"START\"\n",
    "\n",
    "X2_train[\"next_tag\"] = np.concatenate((train_preds[1:], [\"END\"]))\n",
    "X2_train.loc[X2_train.text_pos==X2_train.adr_len,\"next_tag\"] = \"END\"\n",
    "\n",
    "dummies = pd.get_dummies(X2_train[[\"pred_TAG\",\"prev_tag\",\"next_tag\"]])\n",
    "X2_train = pd.concat((X2_train,dummies), axis=1)\n",
    "X2_train = X2_train.drop(columns=[\"pred_TAG\",\"prev_tag\",\"next_tag\"])"
   ]
  },
  {
   "cell_type": "code",
   "execution_count": 12,
   "id": "ce5cb776",
   "metadata": {},
   "outputs": [
    {
     "name": "stdout",
     "output_type": "stream",
     "text": [
      "0.9356744696667734  +/-  0.0024257988952104004\n"
     ]
    }
   ],
   "source": [
    "clf2 = RandomForestClassifier(random_state=0)\n",
    "scores = cross_val_score(clf2, X2_train, y_train, cv=5, scoring=\"accuracy\")\n",
    "print(np.mean(scores), \" +/- \", np.std(scores))"
   ]
  },
  {
   "cell_type": "code",
   "execution_count": 13,
   "id": "c079259c",
   "metadata": {},
   "outputs": [
    {
     "name": "stdout",
     "output_type": "stream",
     "text": [
      "0.9271248761336495  +/-  0.003177057488737036\n"
     ]
    }
   ],
   "source": [
    "clf3 = RandomForestClassifier(random_state=0)\n",
    "scores = cross_val_score(clf3, dummies, y_train, cv=5, scoring=\"accuracy\")\n",
    "print(np.mean(scores), \" +/- \", np.std(scores))"
   ]
  },
  {
   "cell_type": "markdown",
   "id": "20193177",
   "metadata": {},
   "source": [
    "### Validating on test data"
   ]
  },
  {
   "cell_type": "code",
   "execution_count": 14,
   "id": "d618d208",
   "metadata": {},
   "outputs": [],
   "source": [
    "test_preds = clf.predict(X_test)"
   ]
  },
  {
   "cell_type": "code",
   "execution_count": 15,
   "id": "96ada5ce",
   "metadata": {},
   "outputs": [],
   "source": [
    "X2_test = X_test.copy()\n",
    "X2_test['pred_TAG'] = test_preds\n",
    "\n",
    "X2_test[\"prev_tag\"] = np.concatenate(([\"START\"], test_preds[:-1]))\n",
    "X2_test.loc[X2_test.text_pos==0,\"prev_tag\"] = \"START\"\n",
    "\n",
    "X2_test[\"next_tag\"] = np.concatenate((test_preds[1:], [\"END\"]))\n",
    "X2_test.loc[X2_test.text_pos==X2_test.adr_len,\"next_tag\"] = \"END\"\n",
    "\n",
    "test_dummies = pd.get_dummies(X2_test[[\"pred_TAG\",\"prev_tag\",\"next_tag\"]])\n",
    "X2_test = pd.concat((X2_test,test_dummies), axis=1)\n",
    "X2_test = X2_test.drop(columns=[\"pred_TAG\",\"prev_tag\",\"next_tag\"])"
   ]
  },
  {
   "cell_type": "code",
   "execution_count": 16,
   "id": "b06fffab",
   "metadata": {},
   "outputs": [
    {
     "data": {
      "text/plain": [
       "0.9357007774742593"
      ]
     },
     "execution_count": 16,
     "metadata": {},
     "output_type": "execute_result"
    }
   ],
   "source": [
    "clf2.fit(X2_train, y_train)\n",
    "test_preds = clf2.predict(X2_test)\n",
    "accuracy_score(y_test, test_preds)"
   ]
  },
  {
   "cell_type": "code",
   "execution_count": 18,
   "id": "35533089",
   "metadata": {},
   "outputs": [
    {
     "data": {
      "text/plain": [
       "0.9244589199411641"
      ]
     },
     "execution_count": 18,
     "metadata": {},
     "output_type": "execute_result"
    }
   ],
   "source": [
    "clf3.fit(dummies, y_train)\n",
    "test_preds = clf3.predict(test_dummies)\n",
    "accuracy_score(y_test, test_preds)"
   ]
  },
  {
   "cell_type": "code",
   "execution_count": 21,
   "id": "0d29ab21",
   "metadata": {},
   "outputs": [
    {
     "name": "stderr",
     "output_type": "stream",
     "text": [
      "C:\\Users\\Shadow\\AppData\\Local\\Temp\\ipykernel_14468\\39364010.py:3: FutureWarning: The default value of numeric_only in DataFrameGroupBy.mean is deprecated. In a future version, numeric_only will default to False. Either specify numeric_only or select only columns which should be valid for the function.\n",
      "  df_stats.groupby('preds').mean()\n"
     ]
    },
    {
     "data": {
      "text/html": [
       "<div>\n",
       "<style scoped>\n",
       "    .dataframe tbody tr th:only-of-type {\n",
       "        vertical-align: middle;\n",
       "    }\n",
       "\n",
       "    .dataframe tbody tr th {\n",
       "        vertical-align: top;\n",
       "    }\n",
       "\n",
       "    .dataframe thead th {\n",
       "        text-align: right;\n",
       "    }\n",
       "</style>\n",
       "<table border=\"1\" class=\"dataframe\">\n",
       "  <thead>\n",
       "    <tr style=\"text-align: right;\">\n",
       "      <th></th>\n",
       "      <th>success</th>\n",
       "    </tr>\n",
       "    <tr>\n",
       "      <th>preds</th>\n",
       "      <th></th>\n",
       "    </tr>\n",
       "  </thead>\n",
       "  <tbody>\n",
       "    <tr>\n",
       "      <th>ADDRESS</th>\n",
       "      <td>0.964644</td>\n",
       "    </tr>\n",
       "    <tr>\n",
       "      <th>COUNTRY</th>\n",
       "      <td>1.000000</td>\n",
       "    </tr>\n",
       "    <tr>\n",
       "      <th>IBAN</th>\n",
       "      <td>1.000000</td>\n",
       "    </tr>\n",
       "    <tr>\n",
       "      <th>NAME</th>\n",
       "      <td>0.724097</td>\n",
       "    </tr>\n",
       "    <tr>\n",
       "      <th>ORG</th>\n",
       "      <td>0.831514</td>\n",
       "    </tr>\n",
       "  </tbody>\n",
       "</table>\n",
       "</div>"
      ],
      "text/plain": [
       "          success\n",
       "preds            \n",
       "ADDRESS  0.964644\n",
       "COUNTRY  1.000000\n",
       "IBAN     1.000000\n",
       "NAME     0.724097\n",
       "ORG      0.831514"
      ]
     },
     "execution_count": 21,
     "metadata": {},
     "output_type": "execute_result"
    }
   ],
   "source": [
    "df_stats = pd.DataFrame({'preds':test_preds, 'targets':y_test})\n",
    "df_stats[\"success\"] = pd.to_numeric(df_stats.preds == df_stats.targets)\n",
    "df_stats.groupby('preds').mean()"
   ]
  },
  {
   "cell_type": "code",
   "execution_count": null,
   "id": "c4bb9030",
   "metadata": {},
   "outputs": [],
   "source": []
  }
 ],
 "metadata": {
  "kernelspec": {
   "display_name": "Python 3 (ipykernel)",
   "language": "python",
   "name": "python3"
  },
  "language_info": {
   "codemirror_mode": {
    "name": "ipython",
    "version": 3
   },
   "file_extension": ".py",
   "mimetype": "text/x-python",
   "name": "python",
   "nbconvert_exporter": "python",
   "pygments_lexer": "ipython3",
   "version": "3.11.0"
  }
 },
 "nbformat": 4,
 "nbformat_minor": 5
}
